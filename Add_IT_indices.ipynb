{
 "cells": [
  {
   "cell_type": "code",
   "execution_count": 1,
   "metadata": {},
   "outputs": [],
   "source": [
    "import os\n",
    "import re\n",
    "import glob\n",
    "import numpy as np\n",
    "import pandas as pd"
   ]
  },
  {
   "cell_type": "code",
   "execution_count": 2,
   "metadata": {},
   "outputs": [],
   "source": [
    "import matplotlib.pyplot as plt\n",
    "%matplotlib inline"
   ]
  },
  {
   "cell_type": "code",
   "execution_count": 3,
   "metadata": {},
   "outputs": [],
   "source": [
    "import seaborn as sns"
   ]
  },
  {
   "cell_type": "markdown",
   "metadata": {},
   "source": [
    "## 1. Functions"
   ]
  },
  {
   "cell_type": "code",
   "execution_count": 4,
   "metadata": {},
   "outputs": [],
   "source": [
    "def get_data_infos(data_from):\n",
    "    '''\n",
    "    <returns>:\n",
    "        n_trials   : sequence length\n",
    "        n_repeat   : number of repetitions per block \n",
    "        n_blocks   : number of blocks per sequence type\n",
    "        section_len: number of trials per section\n",
    "    '''\n",
    "    if data_from == \"Joanne\": \n",
    "        n_trials = 8 \n",
    "        n_repeat = 5 \n",
    "        n_blocks = 7 \n",
    "        block_size = n_trials * n_repeat * 2\n",
    "            # each block includes the same amount of random trials\n",
    "        section_len = block_size * n_blocks\n",
    "            # two sections\n",
    "        \n",
    "    elif data_from == \"BinShan\": \n",
    "        n_trials = 12\n",
    "        n_repeat = 8 \n",
    "        n_blocks = 13\n",
    "        block_size = 5 + n_trials * n_repeat\n",
    "            # each block includes five random trials\n",
    "        section_len = block_size * (n_blocks + 3)\n",
    "            # one section, with three random blocks\n",
    "        \n",
    "    return n_trials, n_repeat, n_blocks, block_size, section_len"
   ]
  },
  {
   "cell_type": "code",
   "execution_count": 24,
   "metadata": {},
   "outputs": [],
   "source": [
    "def proc_data(data_all, data_from, stim_list, seqlearn_rows=None):\n",
    "    \n",
    "    if data_from == \"Joanne\":\n",
    "        \n",
    "        data_all = data_all.query(\"Block != 'R'\")\n",
    "        data_all.loc[:, \"Target\"] = data_all[\"Target\"].replace(\n",
    "            { n+1: stim for n, stim in enumerate(stim_list) }\n",
    "        )\n",
    "        data_all.loc[:, \"Response\"] = data_all[\"Response\"].replace(\n",
    "            { n+5: stim for n, stim in enumerate(stim_list) }\n",
    "        )\n",
    "        seqlearn_rows = [ x for x in data_all.index if x in seqlearn_rows ]\n",
    "        data_seqlearn = data_all.loc[seqlearn_rows, :]      \n",
    "\n",
    "        RT_ref_dict = {} # baseline RT \n",
    "        for b in set(data_seqlearn[\"Block\"]):\n",
    "            globals()[\"b\"] = b\n",
    "            RT_ref_dict[b] = {\n",
    "                s: data_all.query(\"State == 'R' & \" + \n",
    "                                  \"Block == @b & \" + \n",
    "                                  \"Response == @s & \" + \n",
    "                                  \"Hit == 1\"\n",
    "                )[\"RT\"] for s in stim_list\n",
    "            }\n",
    "        \n",
    "    elif data_from == \"BinShan\":\n",
    "        \n",
    "        data_all = data_all.iloc[:, :6].query(\"Block not in [0, 1]\")\n",
    "        data_all.loc[:, \"Target\"] = data_all[\"Target\"].replace(\n",
    "            { n+1: stim for n, stim in enumerate(stim_list) }\n",
    "        )\n",
    "        data_all.loc[:, \"Response\"] = data_all[\"Response\"].replace(\n",
    "            { n+1: stim for n, stim in enumerate(stim_list) }\n",
    "        )\n",
    "        data_seqlearn = data_all.query(\"State == 'Sequential' & Hit == 1\")\n",
    "        \n",
    "        RT_ref_dict = {} \n",
    "        for b in set(data_seqlearn[\"Block\"]): \n",
    "            globals()[\"b\"] = b-1\n",
    "            \n",
    "            if b < 6:               # 2, 3, 4, 5\n",
    "                globals()[\"b\"] = 6  # random block\n",
    "            elif b < 11:            # 7, 8, 9, 10\n",
    "                globals()[\"b\"] = 11 # random block\n",
    "            else:                   # 12, 13, 14, 15, 17\n",
    "                globals()[\"b\"] = 16 # random block\n",
    "                \n",
    "            RT_ref_dict[b] = {\n",
    "                s: data_all.query(\"Block == @b & \" + \n",
    "                                  \"Response == @s & \" + \n",
    "                                  \"Hit == 1\"\n",
    "                )[\"RT\"] for s in stim_list\n",
    "            }\n",
    "    \n",
    "    data_copy = data_seqlearn.copy()\n",
    "    data_copy.loc[:, \"RT_imp\"] = data_copy.apply( # RT improvements\n",
    "        lambda x: RT_ref_dict[x[\"Block\"]][x[\"Target\"]].mean() - x[\"RT\"], \n",
    "        axis=1\n",
    "    )\n",
    "    data_seqlearn = data_copy.copy()\n",
    "        \n",
    "    return data_all, data_seqlearn"
   ]
  },
  {
   "cell_type": "code",
   "execution_count": 6,
   "metadata": {},
   "outputs": [],
   "source": [
    "def gen_pattern_list(stim_list, pattern_size):\n",
    "    return [ \n",
    "        \"\".join(P) for P in np.array(\n",
    "            np.meshgrid(* [stim_list] * pattern_size)\n",
    "        ).T.reshape(-1, pattern_size)\n",
    "    ]"
   ]
  },
  {
   "cell_type": "code",
   "execution_count": 7,
   "metadata": {},
   "outputs": [],
   "source": [
    "def compute_trans_mat(stim_list, pattern_size, obsverations): \n",
    "    '''\n",
    "    <return> \n",
    "        A matrix of p(xi | xj) whose columns represent the given pattern (xj)\n",
    "        and rows represent the upcoming stimulus (xi).\n",
    "    '''\n",
    "    if len(obsverations) >= pattern_size: \n",
    "        return pd.DataFrame.from_dict({\n",
    "            xj: {\n",
    "                xi: (( \n",
    "                    len(re.findall(f\"{xj}{xi}\", \"\".join(obsverations))) \n",
    "                    + 1 \n",
    "                ) / ( \n",
    "                    len(re.findall(f\"{xj}\", \"\".join(obsverations[:-1])))\n",
    "                    + len(stim_list)\n",
    "                )) for xi in stim_list\n",
    "            } for xj in gen_pattern_list(stim_list, pattern_size - 1)\n",
    "        })\n",
    "    else:\n",
    "        return pd.DataFrame( # a uniform distribution\n",
    "            1 / len(stim_list), \n",
    "            index = stim_list, \n",
    "            columns = gen_pattern_list(stim_list, pattern_size - 1), \n",
    "        ) "
   ]
  },
  {
   "cell_type": "markdown",
   "metadata": {},
   "source": [
    "### 1.1 Functions for computing information theoretic indices \n",
    "see: https://ideazaurus.com/posts/general/information_theory.html"
   ]
  },
  {
   "cell_type": "code",
   "execution_count": 8,
   "metadata": {},
   "outputs": [],
   "source": [
    "def compute_self_information(p_xi):\n",
    "    '''   \n",
    "    The bits of information we receive from observing the event xi.\n",
    "    Can also be stated as surprisal.\n",
    "    \n",
    "    <Symbolic Expression>: H[E(x) == xi]\n",
    "    \n",
    "    <Input> \n",
    "        p_xi (float): the probability of event xi.\n",
    "    '''\n",
    "    return -1 * np.log2(p_xi)"
   ]
  },
  {
   "cell_type": "code",
   "execution_count": 9,
   "metadata": {},
   "outputs": [],
   "source": [
    "def compute_entropy(p_x):\n",
    "    '''\n",
    "    Shannon's approach to quantify uncertainty of random variable x.\n",
    "    \n",
    "    <Symbolic Expression>: H[E(x)]\n",
    "    \n",
    "    <Input> \n",
    "        p_x (array): the marginal distribution of x, summing to one.\n",
    "    '''\n",
    "    return np.nansum(-1 * p_x * np.log2(p_x))"
   ]
  },
  {
   "cell_type": "code",
   "execution_count": 10,
   "metadata": {},
   "outputs": [],
   "source": [
    "def compute_conditional_entropy(p_xy_joint, p_y, p_x):\n",
    "    '''\n",
    "    The information contained in x given y.\n",
    "    Equal to the total amount of uncertainty associated with x and y ...\n",
    "    ... minus the amount of uncertainty already contained in y. \n",
    "    \n",
    "    <Symbolic Expression>: H[E(x) | E(y)] \n",
    "        = H[E(x), E(y)] - H[E(y)]\n",
    "    \n",
    "    <Input> \n",
    "        p_xy_joint (array): the probability distribution of event pairs.\n",
    "    '''\n",
    "    p_x_given_y = p_xy_joint / p_y\n",
    "    return np.nansum(-1 * p_xy_joint * np.log2(p_x_given_y))"
   ]
  },
  {
   "cell_type": "code",
   "execution_count": 11,
   "metadata": {},
   "outputs": [],
   "source": [
    "def compute_mutual_information(p_xy_joint, p_y, p_x):\n",
    "    '''\n",
    "    The average amount of surprisal by seeing two outcomes happening together\n",
    "        compared to what we would expect if they were independent.\n",
    "        \n",
    "    <Symbolic Expression>: I[E(x); E(y)] \n",
    "        = H[E(x), E(y)] - H[E(x) | E(y)] - H[E(y) | E(x)]\n",
    "        = H[E(x), E(y)] - H[E(x), E(y)] + H[E(y)] - H[E(x), E(y)] + H[E(x)] \n",
    "        = H[E(y)] + H[E(x)] - H[E(x), E(y)] \n",
    "    '''\n",
    "    return np.nansum(p_xy_joint * np.log2(p_xy_joint / (p_y * p_x)))"
   ]
  },
  {
   "cell_type": "code",
   "execution_count": 12,
   "metadata": {},
   "outputs": [],
   "source": [
    "def compute_information_gain(p_xiyi_joint, p_yi, p_xi):\n",
    "    '''\n",
    "    The reduction in uncertainty about xi after observing yi.\n",
    "    Equalvent to surprisal reduction.\n",
    "    \n",
    "    <Symbolic Expression>: IG[E(x) == xi; E(y) == yi] \n",
    "        = H[E(x) == xi] - H[E(x) == xi | E(y) == yi]\n",
    "        = H[E(x) == xi] + H[E(y) == yi] - H[E(x) == xi, E(y) == yi]\n",
    "    '''\n",
    "    return np.log2(p_xiyi_joint / (p_yi * p_xi))"
   ]
  },
  {
   "cell_type": "code",
   "execution_count": 13,
   "metadata": {},
   "outputs": [],
   "source": [
    "def compute_IT_indices(stim_list, pattern_size, stim_stream):\n",
    "    \n",
    "    pattern_list = gen_pattern_list(stim_list, pattern_size)\n",
    "    prev_list = gen_pattern_list(stim_list, pattern_size - 1)\n",
    "    \n",
    "    track_surprisal    = []\n",
    "    track_entropy      = [] \n",
    "    track_cond_entropy = []\n",
    "    track_mutual_info  = []\n",
    "    track_sp_reduction = []\n",
    "    \n",
    "    for t in range(1, len(stim_stream)+1):\n",
    "        observations = stim_stream[0:t] \n",
    "        obs_string = \"\".join(observations)        \n",
    "        pattern_count = len(observations) - pattern_size + 1\n",
    "        \n",
    "        if pattern_count < 1: \n",
    "            p_xi = 1 / len(stim_list)\n",
    "            marg_dist_curr = np.array( [p_xi] * len(stim_list) )\n",
    "            p_xj = 1 / len(prev_list)\n",
    "            marg_dist_prev = np.array([p_xj] * len(prev_list))\n",
    "            p_xjxi = 1 / len(pattern_list)\n",
    "            [p_joint, p_x_prev, p_x_curr] = np.array(\n",
    "                [p_xjxi, p_xj, p_xi] * len(pattern_list) \n",
    "            ).reshape(-1, 3).T\n",
    "            \n",
    "        else: \n",
    "            marg_dist_curr = np.array([ # marginal distribution\n",
    "                ( (observations.count(x) + 1) / \n",
    "                  (len(observations) + len(stim_list)) )\n",
    "                for x in stim_list\n",
    "            ]) \n",
    "            \n",
    "            xi = obs_string[-1] # the current stimulus     \n",
    "            p_xi = dict(zip(stim_list, marg_dist_curr))[xi]\n",
    "            \n",
    "            marg_dist_prev = np.array([\n",
    "                ( (len(re.findall(prev, obs_string[:-1])) + 1) / \n",
    "                  (pattern_count + len(prev_list)) )\n",
    "                for prev in prev_list\n",
    "            ])\n",
    "            \n",
    "            xj = obs_string[-pattern_size:-1]  # the obsvered stimuli \n",
    "            p_xj = dict(zip(prev_list, marg_dist_prev))[xj]\n",
    "        \n",
    "            [p_joint, p_x_prev, p_x_curr] = np.array([ [\n",
    "                (( len(re.findall(P, obs_string)) + 1 ) / \n",
    "                 ( pattern_count + len(pattern_list) )), \n",
    "                (( len(re.findall(P[:-1], obs_string[:-1])) + 1 ) / \n",
    "                 ( pattern_count + len(prev_list) )), \n",
    "                (( observations.count(P[-1]) + 1 ) / \n",
    "                 ( len(observations) + len(stim_list) )) \n",
    "            ] for P in pattern_list ]).T\n",
    "            \n",
    "            xjxi = obs_string[-pattern_size::] # the current pattern\n",
    "            p_xjxi = dict(zip(pattern_list, p_joint))[f\"{xj}{xi}\"]\n",
    "            \n",
    "        # Shannon entropy:\n",
    "        track_entropy.append(compute_entropy(p_joint))\n",
    "\n",
    "        # Surprisal:        \n",
    "        track_surprisal.append(\n",
    "            compute_self_information(p_xjxi))\n",
    "\n",
    "        # Conditional Entropy:\n",
    "        track_cond_entropy.append( \n",
    "            compute_conditional_entropy(p_joint, p_x_prev, p_x_curr))\n",
    "\n",
    "        # Mutual Information:\n",
    "        track_mutual_info.append( \n",
    "            compute_mutual_information(p_joint, p_x_prev, p_x_curr))\n",
    "\n",
    "        ## Surprisal Reduction:\n",
    "        track_sp_reduction.append( \n",
    "            compute_information_gain(p_xjxi, p_xj, p_xi))\n",
    "\n",
    "    return (track_surprisal, \n",
    "            track_entropy, \n",
    "            track_cond_entropy, \n",
    "            track_mutual_info, \n",
    "            track_sp_reduction)"
   ]
  },
  {
   "cell_type": "markdown",
   "metadata": {},
   "source": [
    "### 1.2 Functions for plotting"
   ]
  },
  {
   "cell_type": "code",
   "execution_count": 14,
   "metadata": {},
   "outputs": [],
   "source": [
    "def plot_transition_mat(trans_mat, fig_size=(3, 3), show_dat=True, \n",
    "                        c_map=[\"Reds\", \"rocket_r\", \"flare\"][0], \n",
    "                        v_min=None, v_max=None):\n",
    "\n",
    "    fig = plt.figure(figsize=fig_size)\n",
    "    ax = fig.add_subplot()\n",
    "    sns.heatmap(\n",
    "        trans_mat, \n",
    "        annot=show_dat, fmt=\".2f\", \n",
    "        cmap=c_map, vmin=v_min, vmax=v_max, \n",
    "        cbar_kws={'shrink': 0.6}, \n",
    "        linewidth=.5, square=True, \n",
    "    )\n",
    "    ax.set_xticks(\n",
    "        np.arange(0, trans_mat.shape[1], 1) + .5,  \n",
    "        labels=trans_mat.columns, \n",
    "        rotation=90 # -45\n",
    "    ) \n",
    "    ax.set_yticklabels(trans_mat.index, rotation=0)\n",
    "    ax.xaxis.tick_top()\n",
    "    plt.tight_layout() \n",
    "    plt.show()"
   ]
  },
  {
   "cell_type": "code",
   "execution_count": 15,
   "metadata": {},
   "outputs": [],
   "source": [
    "def plot_IT_indices(start, end, block_size, x_ticks=np.array([]),\n",
    "                    fig_size=(10, 6), font_size=14, \n",
    "                    track_surprisal=None, fid_s=511, \n",
    "                    track_entropy=None, fid_e=512, \n",
    "                    track_cond_entropy=None, fid_ce=513, \n",
    "                    track_mutual_info=None, fid_mi=515, \n",
    "                    track_sp_reduction=None, fid_sr=514):\n",
    "    \n",
    "    fig = plt.figure(figsize=fig_size)\n",
    "    \n",
    "    if len(x_ticks) == 0:\n",
    "        x_ticks = np.arange(start, end+1, block_size) \n",
    "    \n",
    "    if track_surprisal is not None:\n",
    "        ax1 = fig.add_subplot(fid_s)\n",
    "        plt.plot(np.arange(start, end, 1), \n",
    "                 track_surprisal[start:end])\n",
    "        ax1.set_ylabel(\"Surprisal\", \n",
    "                       rotation=0, ha=\"right\", va=\"center\", fontsize=font_size)\n",
    "        ax1.set_xticks(x_ticks)\n",
    "        plt.grid()\n",
    "        \n",
    "    if track_entropy is not None:\n",
    "        ax2 = fig.add_subplot(fid_e)\n",
    "        plt.plot(np.arange(start, end, 1), \n",
    "                 track_entropy[start:end])\n",
    "        ax2.set_ylabel(\"Entropy\", \n",
    "                       rotation=0, ha=\"right\", va=\"center\", fontsize=font_size)\n",
    "        ax2.set_xticks(x_ticks)\n",
    "        plt.grid()\n",
    "        \n",
    "    if track_cond_entropy is not None:\n",
    "        ax3 = fig.add_subplot(fid_ce)\n",
    "        plt.plot(np.arange(start, end, 1), \n",
    "                 track_entropy[start:end])\n",
    "        ax3.set_ylabel(\"Conditional\\nEntropy\", \n",
    "                       rotation=0, ha=\"right\", va=\"center\", fontsize=font_size)\n",
    "        ax3.set_xticks(x_ticks)\n",
    "        plt.grid()\n",
    "        \n",
    "    if track_mutual_info is not None:\n",
    "        ax4 = fig.add_subplot(fid_mi)\n",
    "        plt.plot(np.arange(start, end, 1), \n",
    "                 track_mutual_info[start:end])\n",
    "        ax4.set_ylabel(\"Mutual\\nInformation\", \n",
    "                       rotation=0, ha=\"right\", va=\"center\", fontsize=font_size)\n",
    "        ax4.set_xticks(x_ticks)\n",
    "        plt.grid()\n",
    "\n",
    "    if track_sp_reduction is not None:\n",
    "        ax5 = fig.add_subplot(fid_sr)\n",
    "        plt.plot(np.arange(start, end, 1), \n",
    "                 track_sp_reduction[start:end])\n",
    "        ax5.set_ylabel(\"Surprisal\\nReduction\", \n",
    "                       rotation=0, ha=\"right\", va=\"center\", fontsize=font_size)\n",
    "        ax5.set_xticks(x_ticks)\n",
    "        plt.grid()\n",
    "\n",
    "    plt.tight_layout() \n",
    "    plt.show()"
   ]
  },
  {
   "cell_type": "markdown",
   "metadata": {},
   "source": [
    "## 2. Load SRT data"
   ]
  },
  {
   "cell_type": "code",
   "execution_count": 16,
   "metadata": {},
   "outputs": [
    {
     "name": "stdout",
     "output_type": "stream",
     "text": [
      "# Data from: Joanne\n",
      "# Number of files = 12\n",
      "# An instance of filename: sub_02.csv\n",
      "# Out dir: Data_SRT_Joanne\\PreprocessedData\\Basic_Shannon (3-back)\\explicit\\learned\n"
     ]
    }
   ],
   "source": [
    "data_from = [\"BinShan\", \"Joanne\"][1]\n",
    "\n",
    "pattern_size = 4\n",
    "\n",
    "version = [\n",
    "    f\"Basic_Shannon ({pattern_size-1}-back)\"\n",
    "][0]\n",
    "\n",
    "stim_list = [\"A\", \"B\", \"C\", \"D\"]\n",
    "\n",
    "n_trials, n_repeat, n_blocks, block_size, section_len = get_data_infos(data_from)\n",
    "\n",
    "if data_from == \"Joanne\": # ---------------------------------------------------\n",
    "    \n",
    "    data_folder = os.path.join(\n",
    "        \"Data_SRT_Joanne\", \n",
    "        \"IntermediateData\", \n",
    "        [\"explicit\", \"implicit\"][0], \n",
    "        [\"learned\", \"not_learned\"][0]\n",
    "    ) \n",
    "    data_paths = glob.glob(\n",
    "        os.path.join(data_folder, \"sub_??.csv\")\n",
    "    )\n",
    "    out_folder = os.path.join(\n",
    "        data_folder.replace(\"IntermediateData\", \n",
    "                            os.path.join(\"PreprocessedData\", version)) \n",
    "    )\n",
    "    \n",
    "elif data_from == \"BinShan\": # -------------------------------------------------\n",
    "    \n",
    "    data_folder = os.path.join(\n",
    "        \"Data_SRT_Binshan\", \n",
    "        [\"Exp1_Spatial\", \n",
    "         \"Exp2_Temporal\", \n",
    "         \"Exp3_Intertwine(tDCS)\", \n",
    "         \"Exp4_Intertwine\"\n",
    "        ][0], \n",
    "        \"Data&Analysis\"\n",
    "    )\n",
    "    data_paths = glob.glob(\n",
    "        os.path.join(data_folder, \"Spatial_HL_??_??.csv\")\n",
    "    )\n",
    "    out_folder = os.path.join(\n",
    "        data_folder.replace(\"Data&Analysis\", \"PreprocessedData\"), version\n",
    "    )\n",
    "\n",
    "# -----------------------------------------------------------------------------\n",
    "\n",
    "if not os.path.exists(out_folder):\n",
    "    os.makedirs(out_folder)\n",
    "\n",
    "print(\"# Data from:\", data_from)\n",
    "print(\"# Number of files =\", len(data_paths))\n",
    "print(\"# An instance of filename:\", os.path.basename(data_paths[0]))\n",
    "print(\"# Out dir:\", out_folder)"
   ]
  },
  {
   "cell_type": "markdown",
   "metadata": {},
   "source": [
    "## 3. Add information theoretic indices (run with loop)"
   ]
  },
  {
   "cell_type": "code",
   "execution_count": 27,
   "metadata": {},
   "outputs": [],
   "source": [
    "for fp in data_paths[:1]:\n",
    "    \n",
    "    sid = re.findall(\"[\\d]+\", os.path.basename(fp))[0]\n",
    "    out_path = os.path.join(out_folder, f\"sub_{sid}.xlsx\")\n",
    "    \n",
    "    if data_from == \"Joanne\": \n",
    "        data = pd.read_csv(fp, index_col=0)\n",
    "        \n",
    "        cleaned_data = pd.read_csv(os.path.join(\n",
    "            data_folder, f\"sub_{sid}_cleaned.csv\"), index_col=0)\n",
    "        \n",
    "        seqlearn_rows = cleaned_data.query(\"State == 'S'\").index\n",
    "        data_all, data_seqlearn = proc_data(data, data_from, stim_list, seqlearn_rows)\n",
    "    \n",
    "    else:\n",
    "        data = pd.read_csv(fp)\n",
    "        data_all, data_seqlearn = proc_data(data, data_from, stim_list)\n",
    "    \n",
    "#     stim_stream = data_all[\"Target\"].to_list() \n",
    "#     step = [block_size, section_len][1]\n",
    "\n",
    "#     start_points = np.arange(0, len(stim_stream) - step + 1, step)\n",
    "#     end_points = np.arange(step, len(stim_stream) + 1, step)\n",
    "\n",
    "#     it_indices = [[], [], [], [], []]\n",
    "\n",
    "#     for t0, t1 in zip(start_points, end_points):\n",
    "#         results = compute_IT_indices(\n",
    "#             stim_list, pattern_size, stim_stream[t0:t1]) \n",
    "\n",
    "#         for x in range(5):\n",
    "#             it_indices[x].append(results[x])\n",
    "\n",
    "#     DF = pd.DataFrame({\n",
    "#         \"Index\"    : data_all.index, \n",
    "#         \"Surprisal\": sum(it_indices[0], []), \n",
    "#         \"Entropy\"  : sum(it_indices[1], []), \n",
    "#         \"MI\"       : sum(it_indices[3], []), \n",
    "#         \"IG\"       : sum(it_indices[4], []), \n",
    "#     })\n",
    "#     DF.set_index([\"Index\"], inplace=True)\n",
    "#     DF = DF.loc[data_seqlearn.index, :]\n",
    "#     DF[\"RT_imp\"] = data_seqlearn[\"RT_imp\"].copy()\n",
    "    \n",
    "#     DF.to_excel(out_path, index=False)"
   ]
  },
  {
   "cell_type": "markdown",
   "metadata": {},
   "source": [
    "## 4. For exploration"
   ]
  },
  {
   "cell_type": "code",
   "execution_count": 28,
   "metadata": {},
   "outputs": [
    {
     "name": "stdout",
     "output_type": "stream",
     "text": [
      "sub_02.csv\n"
     ]
    }
   ],
   "source": [
    "# fp = data_paths[0]\n",
    "# data = pd.read_csv(fp)\n",
    "print(os.path.basename(fp))"
   ]
  },
  {
   "cell_type": "code",
   "execution_count": 38,
   "metadata": {},
   "outputs": [
    {
     "name": "stdout",
     "output_type": "stream",
     "text": [
      "['C' 'D' 'C' 'B' 'A' 'A' 'B' 'D']\n",
      "['B' 'A' 'B' 'C' 'D' 'D' 'C' 'A']\n"
     ]
    }
   ],
   "source": [
    "## Print sequence:\n",
    "    \n",
    "if data_from == \"Joanne\":\n",
    "    first_half = [ str(x) for x in range(1, 8) ]\n",
    "    second_half = [ str(x) for x in range(8, 15) ]\n",
    "    sequence = {\n",
    "        1: np.array(\n",
    "            data_all.query(\"State == 'S' & Block in @first_half\")[\"Target\"]\n",
    "        ).reshape(n_repeat * n_blocks, n_trials)[0], \n",
    "        2: np.array(\n",
    "            data_all.query(\"State == 'S' & Block in @second_half\")[\"Target\"]\n",
    "        ).reshape(n_repeat * n_blocks, n_trials)[0]\n",
    "    }\n",
    "else:\n",
    "    sequence = {\n",
    "        1: np.array(\n",
    "            data_all.query(\"State == 'Sequential'\")[\"Target\"]\n",
    "        ).reshape(n_repeat * n_blocks, n_trials)[0]\n",
    "    }\n",
    "\n",
    "for seq in sequence.values():\n",
    "    print(seq)"
   ]
  },
  {
   "cell_type": "code",
   "execution_count": 42,
   "metadata": {},
   "outputs": [
    {
     "data": {
      "image/png": "[encoded data removed]",
      "text/plain": [
       "<Figure size 1080x144 with 2 Axes>"
      ]
     },
     "metadata": {
      "needs_background": "light"
     },
     "output_type": "display_data"
    }
   ],
   "source": [
    "## Plot transition matrix:\n",
    "    \n",
    "pattern_size = 4\n",
    "pseudo_seq = (\n",
    "    \"\".join(seq) + \"\".join(seq[0:pattern_size-1])\n",
    ")\n",
    "trans_mat = compute_trans_mat(\n",
    "    stim_list, pattern_size, pseudo_seq\n",
    ")\n",
    "plot_transition_mat(\n",
    "    trans_mat, # .iloc[:, :15] for a suitablle readability\n",
    "    show_dat=False, \n",
    "    fig_size=(15, 2)\n",
    ")\n",
    "for x in list(trans_mat.sum().round(3)):\n",
    "    if x != 1:\n",
    "        print(x) # make sure each column sums to one"
   ]
  },
  {
   "cell_type": "code",
   "execution_count": 43,
   "metadata": {},
   "outputs": [],
   "source": [
    "## Compute information theoretic indices:\n",
    "    \n",
    "stim_stream = data_all[\"Target\"].to_list() \n",
    "step = [block_size, section_len][1]\n",
    "\n",
    "start_points = np.arange(0, len(stim_stream) - step + 1, step)\n",
    "end_points = np.arange(step, len(stim_stream) + 1, step)\n",
    "\n",
    "it_indices = [[], [], [], [], []]\n",
    "\n",
    "for t0, t1 in zip(start_points, end_points):\n",
    "    results = compute_IT_indices(\n",
    "        stim_list, pattern_size, stim_stream[t0:t1]) \n",
    "\n",
    "    for x in range(5):\n",
    "        it_indices[x].append(results[x])\n",
    "        \n",
    "DF = pd.DataFrame({\n",
    "    \"Index\"    : data_all.index, \n",
    "    \"Surprisal\": sum(it_indices[0], []), \n",
    "    \"Entropy\"  : sum(it_indices[1], []), \n",
    "    \"MI\"       : sum(it_indices[3], []), \n",
    "    \"IG\"       : sum(it_indices[4], []), \n",
    "})\n",
    "DF.set_index([\"Index\"], inplace=True)\n",
    "DF = DF.loc[data_seqlearn.index, :]\n",
    "DF[\"RT_imp\"] = data_seqlearn[\"RT_imp\"].copy()"
   ]
  },
  {
   "cell_type": "code",
   "execution_count": 118,
   "metadata": {},
   "outputs": [
    {
     "data": {
      "image/png": "[encoded data removed]",
      "text/plain": [
       "<Figure size 720x72 with 1 Axes>"
      ]
     },
     "metadata": {
      "needs_background": "light"
     },
     "output_type": "display_data"
    },
    {
     "data": {
      "image/png": "[encoded data removed]",
      "text/plain": [
       "<Figure size 720x432 with 4 Axes>"
      ]
     },
     "metadata": {
      "needs_background": "light"
     },
     "output_type": "display_data"
    }
   ],
   "source": [
    "## Plot the results:\n",
    "\n",
    "unit_size = n_trials * n_repeat\n",
    "start = 0\n",
    "end = DF.shape[0]\n",
    "\n",
    "unit_nums, unit_begins = np.unique(\n",
    "    np.array([ \n",
    "        n // unit_size \n",
    "        for n, x in enumerate(\n",
    "            data_all.query(\"State == 'S' or State == 'Sequential'\").index\n",
    "        ) \n",
    "        if x in data_seqlearn[start:end].index\n",
    "    ]), \n",
    "    return_index=True)\n",
    "\n",
    "fig = plt.figure(figsize=(10, 1))\n",
    "ax = fig.add_subplot()\n",
    "plt.plot(np.arange(start, end, 1), DF[\"RT_imp\"][start:end])\n",
    "ax.set_xticks(unit_begins)\n",
    "plt.grid()\n",
    "plt.show()\n",
    "\n",
    "plot_IT_indices(\n",
    "    start, end, block_size=None, x_ticks=unit_begins, \n",
    "    track_surprisal=DF[\"Surprisal\"][start:end], fid_s=414, \n",
    "    track_entropy=DF[\"Entropy\"][start:end], fid_e=413, \n",
    "    track_mutual_info=DF[\"MI\"][start:end], fid_mi=411, \n",
    "    track_sp_reduction=DF[\"IG\"][start:end], fid_sr=412\n",
    ")"
   ]
  },
  {
   "cell_type": "code",
   "execution_count": null,
   "metadata": {},
   "outputs": [],
   "source": [
    "stim_stream = data[\"Target\"].to_list() \n",
    "\n",
    "for t in range(1, len(stim_stream) + 1):\n",
    "\n",
    "    observations = stim_stream[:t] \n",
    "    trans_mat = compute_trans_mat(stim_list, pattern_size, obsverations)\n",
    "    \n",
    "    \n",
    "\n",
    "    ## Conditional Entropy:\n",
    "    track_cond_entropy.append( \n",
    "        compute_conditional_entropy(p_joint, p_x_prev, p_x_curr))"
   ]
  },
  {
   "cell_type": "code",
   "execution_count": null,
   "metadata": {},
   "outputs": [],
   "source": [
    "# vals, counts = np.unique(stim_stream[:1], return_counts=True)\n",
    "# print(dict(zip(vals, (counts + 1) / (sum(counts) + 4) )))"
   ]
  },
  {
   "cell_type": "markdown",
   "metadata": {},
   "source": [
    "## 5. Testing\n",
    "Harrison, Duggins & Friston (2006) Encoding uncertainty in the hippocampus.\n",
    "https://doi.org/10.1016/j.neunet.2005.11.002"
   ]
  },
  {
   "cell_type": "code",
   "execution_count": null,
   "metadata": {},
   "outputs": [],
   "source": [
    "# stim_list = [\"A\", \"B\", \"C\", \"D\"]"
   ]
  },
  {
   "cell_type": "code",
   "execution_count": null,
   "metadata": {},
   "outputs": [],
   "source": [
    "# ## A given transition matrix:\n",
    "\n",
    "# A = np.array([\n",
    "#     [0.6 , 0.3 , 0.1 , 0.35],\n",
    "#     [0.1 , 0.05, 0.7 , 0.1 ],\n",
    "#     [0.2 , 0.5 , 0.15, 0.4 ],\n",
    "#     [0.1 , 0.15, 0.05, 0.15]\n",
    "# ])\n",
    "# trans_dict = { \n",
    "#     stim: dict(zip(stim_list, A.T[x])) \n",
    "#     for x, stim in enumerate(stim_list) \n",
    "# }\n",
    "# plot_transition_mat(\n",
    "#     pd.DataFrame.from_dict(trans_dict), \n",
    "#     c_map=\"Reds_r\"\n",
    "# )"
   ]
  },
  {
   "cell_type": "code",
   "execution_count": null,
   "metadata": {},
   "outputs": [],
   "source": [
    "# ## Generate a stimuli stream based on the transition matrix:\n",
    "\n",
    "# block_size = 40\n",
    "# stream_len = block_size * 12\n",
    "\n",
    "# stream = [\"A\", \"B\", \"C\", \"D\"] # initial 4 trials show each stimuli once\n",
    "# np.random.shuffle(stream)     # in a random order\n",
    "# TPs = [.25] * 4\n",
    "# current_len = len(stream)\n",
    "\n",
    "# while current_len <= stream_len:\n",
    "#     stim = stim_list[np.random.choice(len(stim_list), p=TPs)]\n",
    "#     stream.append(stim)\n",
    "#     TPs = list(trans_dict[stim].values())\n",
    "#     current_len += 1\n",
    "    \n",
    "#     ## Avoid the same stimulus appearing three times in a row:\n",
    "#     if len(stream) >= 3 and stream[-1] == stream[-2] == stream[-3]:\n",
    "#         stream.pop()\n",
    "#         current_len -= 1\n",
    "        \n",
    "# # print(\"\".join(stream))"
   ]
  },
  {
   "cell_type": "code",
   "execution_count": null,
   "metadata": {},
   "outputs": [],
   "source": [
    "# ## Estimate transition matrix from the generated stimuli stream:\n",
    "\n",
    "# estimated_trans_mat = compute_trans_mat(stim_list, 2, stream)\n",
    "# plot_transition_mat(estimated_trans_mat, c_map=\"Reds_r\") "
   ]
  },
  {
   "cell_type": "code",
   "execution_count": null,
   "metadata": {},
   "outputs": [],
   "source": [
    "# it_indices = [[], [], [], [], []]\n",
    "\n",
    "# pattern_size = 2\n",
    "\n",
    "# start_points = np.arange(0, stream_len - block_size + 1, block_size)\n",
    "# end_points = np.arange(block_size, stream_len + 1, block_size)\n",
    "    \n",
    "# for t0, t1 in zip(start_points, end_points):\n",
    "#     results = compute_IT_indices(stim_list, pattern_size, stream[t0:t1]) \n",
    "#         # initialize calculations at the beginning of each block\n",
    "    \n",
    "#     for x in range(5):\n",
    "#         it_indices[x].append(results[x]) "
   ]
  },
  {
   "cell_type": "code",
   "execution_count": null,
   "metadata": {},
   "outputs": [],
   "source": [
    "# plot_IT_indices(0, stream_len, block_size, \n",
    "#                 fig_size=(10, 6), \n",
    "#                 track_surprisal=sum(it_indices[0], []), fid_s=414, \n",
    "#                 track_entropy=sum(it_indices[1], []), fid_e=413, \n",
    "#                 # track_cond_entropy=sum(it_indices[2], []), \n",
    "#                 track_mutual_info=sum(it_indices[3], []), fid_mi=411, \n",
    "#                 track_sp_reduction=sum(it_indices[4], []), fid_sr=412)"
   ]
  }
 ],
 "metadata": {
  "kernelspec": {
   "display_name": "Python 3",
   "language": "python",
   "name": "python3"
  },
  "language_info": {
   "codemirror_mode": {
    "name": "ipython",
    "version": 3
   },
   "file_extension": ".py",
   "mimetype": "text/x-python",
   "name": "python",
   "nbconvert_exporter": "python",
   "pygments_lexer": "ipython3",
   "version": "3.8.3"
  }
 },
 "nbformat": 4,
 "nbformat_minor": 4
}
