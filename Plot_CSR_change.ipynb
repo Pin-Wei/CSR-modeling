{
 "cells": [
  {
   "cell_type": "code",
   "execution_count": 1,
   "metadata": {},
   "outputs": [],
   "source": [
    "import os\n",
    "import pandas as pd\n",
    "import numpy as np"
   ]
  },
  {
   "cell_type": "code",
   "execution_count": 2,
   "metadata": {},
   "outputs": [],
   "source": [
    "import seaborn as sns"
   ]
  },
  {
   "cell_type": "code",
   "execution_count": 3,
   "metadata": {},
   "outputs": [],
   "source": [
    "import matplotlib.pyplot as plt\n",
    "%matplotlib inline"
   ]
  },
  {
   "cell_type": "markdown",
   "metadata": {},
   "source": [
    "## Setup path and load data"
   ]
  },
  {
   "cell_type": "code",
   "execution_count": 4,
   "metadata": {},
   "outputs": [
    {
     "name": "stdout",
     "output_type": "stream",
     "text": [
      "Output_Linguistic\\Chang_et_al\\Naming\\CSR_change_uniform_3sd\n",
      "LogCF & CON (z-scored).csv\n",
      "True\n"
     ]
    }
   ],
   "source": [
    "author = [\"Chang_et_al\", \"Tse_et_al\"][0]\n",
    "task = [\"Naming\", \"LD\"][0]\n",
    "\n",
    "zscored = [\"\", \" (z-scored)\"][1]\n",
    "normed = [\"\", \" (normed)\"][0]\n",
    "\n",
    "iter_ver = [\"inward\", \"uniform\", \"uniform_3sd\", None][2]\n",
    "\n",
    "F1 = \"LogCF\"\n",
    "F2 = [\"CON\", \"IMG\"][0]\n",
    "\n",
    "# ------\n",
    "\n",
    "if iter_ver is None:\n",
    "    data_folder = os.path.join(\"Output_Linguistic\", author, task)\n",
    "    data_name = f\"regression_results{zscored}{normed}.csv\"\n",
    "else:\n",
    "    data_folder = os.path.join(\n",
    "        \"Output_Linguistic\", author, task, f\"CSR_change_{iter_ver}\")\n",
    "    data_name = f\"{F1} & {F2}{zscored}{normed}.csv\"\n",
    "\n",
    "data_path = os.path.join(data_folder, data_name)\n",
    "\n",
    "# ------\n",
    "\n",
    "print(data_folder)\n",
    "print(data_name)\n",
    "print(os.path.exists(data_path))"
   ]
  },
  {
   "cell_type": "code",
   "execution_count": 5,
   "metadata": {},
   "outputs": [
    {
     "name": "stdout",
     "output_type": "stream",
     "text": [
      "Index(['SID', 'Iter', 'nT_fit', 'nT_test', 'X0', 'F1', 'F2', 'F1^2', 'F2^2',\n",
      "       'F1F2', 'R^2', 'NRMSE', 'Test_R^2', 'Test_NRMSE'],\n",
      "      dtype='object')\n"
     ]
    }
   ],
   "source": [
    "data = pd.read_csv(data_path)\n",
    "\n",
    "print(data.columns)"
   ]
  },
  {
   "cell_type": "markdown",
   "metadata": {},
   "source": [
    "## Descriptive statistics"
   ]
  },
  {
   "cell_type": "code",
   "execution_count": 6,
   "metadata": {},
   "outputs": [
    {
     "name": "stdout",
     "output_type": "stream",
     "text": [
      "                       min         max        mean          std\n",
      "X0                -112.504    1160.080      -0.017       13.784\n",
      "F1                -347.705    1930.048       0.053       22.150\n",
      "F2                -208.592    5098.078       0.676       54.954\n",
      "F1^2             -1416.045     174.547      -0.136       16.063\n",
      "F2^2             -4467.947     456.029      -0.452       48.272\n",
      "F1F2             -1486.800     258.089      -0.330       18.654\n",
      "R^2                  0.043       1.000       0.853        0.185\n",
      "NRMSE                0.000    4802.646       2.477       54.782\n",
      "Test_R^2    -170489388.905       0.003  -22406.278  1820032.740\n",
      "Test_NRMSE           0.274  115775.486      55.533     1455.187\n"
     ]
    }
   ],
   "source": [
    "exclude_cols = ['SID', 'Iter', 'nT_fit', 'nT_test']\n",
    "desc_cols = [ col for col in data.columns if col not in exclude_cols ]\n",
    "\n",
    "data_desc = (data[desc_cols].describe()\n",
    "             .astype('float')\n",
    "             .applymap(lambda x: f\"{x:.3f}\")\n",
    "             .loc[['min', 'max', 'mean', 'std'], :]\n",
    "             .T)\n",
    "    \n",
    "print(data_desc)"
   ]
  },
  {
   "cell_type": "code",
   "execution_count": 7,
   "metadata": {},
   "outputs": [],
   "source": [
    "dn = data_name.replace(\".csv\", \"\")\n",
    "fp = os.path.join(data_folder, f\"[Desc] {dn}.xlsx\")\n",
    "\n",
    "if not os.path.exists(fp):\n",
    "    data_desc.to_excel(fp)"
   ]
  },
  {
   "cell_type": "markdown",
   "metadata": {},
   "source": [
    "## Plot CSR change (per subject)"
   ]
  },
  {
   "cell_type": "code",
   "execution_count": 8,
   "metadata": {},
   "outputs": [
    {
     "name": "stdout",
     "output_type": "stream",
     "text": [
      "320\n"
     ]
    }
   ],
   "source": [
    "grouped_data = data.groupby(\"SID\")\n",
    "\n",
    "subj_list = list(set(data.SID))\n",
    "print(len(subj_list))"
   ]
  },
  {
   "cell_type": "code",
   "execution_count": 9,
   "metadata": {},
   "outputs": [],
   "source": [
    "## coefficients:\n",
    "\n",
    "if iter_ver in [\"uniform\", \"uniform_3sd\"]:\n",
    "\n",
    "    out_folder = f\"{F1}_x_{F2}{zscored}{normed} coefficients\"\n",
    "    out_dir = os.path.join(data_folder, out_folder)\n",
    "    if not os.path.exists(out_dir):\n",
    "        os.mkdir(out_dir)\n",
    "\n",
    "    for sid in subj_list:\n",
    "        out_path = os.path.join(out_dir, f\"sub-{sid}.png\")\n",
    "\n",
    "        if not os.path.exists(out_path):   \n",
    "            fig = plt.figure(figsize=(8, 4), dpi=200)\n",
    "\n",
    "            sub_data = grouped_data.get_group(sid) \n",
    "            df = sub_data.iloc[:, 5:10]\n",
    "            x_labels = range(1, len(df)+1)    \n",
    "\n",
    "            ax = fig.add_subplot()\n",
    "            for col, vals in df.items():\n",
    "                ax.plot(x_labels, vals, marker='.', label=col, alpha=.5)\n",
    "            ax.grid(True)\n",
    "            ax.set_xticks(x_labels)\n",
    "            ax.set_ylabel('values', size=14)\n",
    "            # ax.legend(loc='center left', bbox_to_anchor=(1, 0.5))\n",
    "            plt.legend(loc='best')\n",
    "            plt.title(f\"F1 = {F1}, F2 = {F2}\")   \n",
    "            plt.suptitle(f\"Subj {sid}\", position=(0.05, 0.9), ha='left', size=16)\n",
    "\n",
    "            plt.tight_layout() \n",
    "            plt.savefig(out_path, format='png')\n",
    "            plt.close()"
   ]
  },
  {
   "cell_type": "code",
   "execution_count": 10,
   "metadata": {},
   "outputs": [],
   "source": [
    "## fitting performance:\n",
    "\n",
    "if iter_ver in [\"uniform\", \"uniform_3sd\"]:\n",
    "\n",
    "    fig_folder = f\"{F1}_x_{F2}{zscored}{normed} fitting performance\"\n",
    "    fp = os.path.join(data_folder, fig_folder)\n",
    "    if not os.path.exists(fp):\n",
    "        os.mkdir(fp)\n",
    "\n",
    "    for sid in subj_list:    \n",
    "        out_path = os.path.join(fp, f\"sub-{sid}.png\")\n",
    "\n",
    "        if not os.path.exists(out_path):    \n",
    "            fig = plt.figure(figsize=(8, 8), dpi=200)    \n",
    "\n",
    "            sub_data = grouped_data.get_group(sid) \n",
    "            x_labels = range(1, len(sub_data)+1)    \n",
    "\n",
    "            df_1 = sub_data.loc[:, ['R^2', 'NRMSE']]\n",
    "            avg_nT_1 = round(sub_data.iloc[:, 2].mean(), 2)\n",
    "\n",
    "            ax1 = fig.add_subplot(211)\n",
    "            for col, vals in df_1.items():\n",
    "                ax1.plot(x_labels, vals, marker='.', label=col, alpha=.5)\n",
    "            ax1.grid(True)\n",
    "            ax1.set_xticks(x_labels)\n",
    "            ax1.set_xlabel('number of subset, sampling without replacement', size=10)\n",
    "            # ax1.set_ylabel('values', size=14)\n",
    "            plt.legend(loc='best')\n",
    "            plt.title(f\"Fit and evaluate on the same part of data (on average, {avg_nT_1} trials)\")\n",
    "\n",
    "            df_2 = sub_data.loc[:, ['Test_R^2', 'Test_NRMSE']]\n",
    "            avg_nT_2 = round(sub_data.iloc[:, 3].mean(), 2)\n",
    "\n",
    "            ax2 = fig.add_subplot(212)\n",
    "            for col, vals in df_2.items():\n",
    "                ax2.plot(x_labels, vals, marker='.', label=col, alpha=.5)\n",
    "            ax2.grid(True)\n",
    "            ax2.set_xticks(x_labels)\n",
    "            # ax2.set_ylabel('values', size=14)\n",
    "            plt.legend(loc='best')\n",
    "            plt.title(f\"Evaluate on all the other parts of data (on average, {avg_nT_2} trial)\")\n",
    "\n",
    "            plt.suptitle(f\"Subj {sid}\", position=(0.05, 0.95), ha='left', size=16)\n",
    "            plt.tight_layout() \n",
    "            # plt.subplots_adjust(top = 0.85) \n",
    "\n",
    "            plt.savefig(out_path, format='png')\n",
    "            plt.close()"
   ]
  },
  {
   "cell_type": "code",
   "execution_count": 11,
   "metadata": {},
   "outputs": [],
   "source": [
    "## together:\n",
    "\n",
    "overwrite = False # True\n",
    "\n",
    "if iter_ver == \"inward\":\n",
    "    \n",
    "    limit = [6, None][1]\n",
    "    \n",
    "    if limit is not None:\n",
    "        out_folder = os.path.join(\n",
    "            data_folder, f\"{F1}_x_{F2}{normed} # up to {limit}\")\n",
    "    else:\n",
    "        out_folder = os.path.join(data_folder, f\"{F1}_x_{F2}{normed}\")\n",
    "    \n",
    "    if not os.path.exists(out_folder):\n",
    "        os.mkdir(out_folder)\n",
    "\n",
    "    # ------\n",
    "        \n",
    "    for sid in subj_list:\n",
    "        out_path = os.path.join(out_folder, f\"sub-{sid}.png\")\n",
    "\n",
    "        if not os.path.exists(out_path) or overwrite:    \n",
    "            fig = plt.figure(figsize=(12, 4), dpi=200)  \n",
    "\n",
    "            if limit is not None:\n",
    "                sub_data = grouped_data.get_group(sid).iloc[:limit]\n",
    "            else:\n",
    "                sub_data = grouped_data.get_group(sid)\n",
    "\n",
    "            x_labels = range(1, len(sub_data)+1)\n",
    "            df_1 = sub_data.iloc[:, 5:10]\n",
    "            df_2 = sub_data.loc[:, ['R^2', 'NRMSE']]\n",
    "            df_3 = sub_data.loc[:, ['Test_R^2', 'Test_NRMSE']]\n",
    "            \n",
    "            ax1 = fig.add_subplot(131)\n",
    "            \n",
    "            for col, vals in df_1.items():\n",
    "                ax1.plot(x_labels, vals, marker='o', label=col)\n",
    "            ax1.grid(True)\n",
    "            ax1.set_xticks(x_labels)\n",
    "            ax1.set_ylabel('values', size=14)\n",
    "            plt.legend(loc='best')\n",
    "            plt.title(f\"F1 = {F1}, F2 = {F2}\")\n",
    "\n",
    "            ax2 = fig.add_subplot(132)\n",
    "            \n",
    "            for col, vals in df_2.items():\n",
    "                ax2.plot(x_labels, vals, marker='o', label=col)\n",
    "            ax2.grid(True)\n",
    "            ax2.set_xticks(x_labels)\n",
    "            ax2.set_ylabel('')\n",
    "            plt.legend(loc='best')\n",
    "            plt.title(f\"Fit and evaluate on selected trials\")\n",
    "            \n",
    "            ax3 = fig.add_subplot(133)\n",
    "            \n",
    "            for col, vals in df_3.items():\n",
    "                ax3.plot(x_labels, vals, marker='o', label=col)\n",
    "            ax3.grid(True)\n",
    "            ax3.set_xticks(x_labels)\n",
    "            ax3.set_ylabel('')\n",
    "            plt.legend(loc='best')\n",
    "            plt.title(f\"Evaluate on the remainning trials\")\n",
    "        \n",
    "            txt = \"\".join([\n",
    "                \"For each iteration, \", \n",
    "                \", \".join([ f\"{sub_data.iloc[x, 2]}\" for x in range(len(sub_data)) ]), \n",
    "                \" trials are selected to fit the CSR function, and \", \n",
    "                \", \".join([ f\"{sub_data.iloc[x, 3]}\" for x in range(len(sub_data)) ]), \n",
    "                \" trials are used for testing.\"\n",
    "            ])\n",
    "            fig.text(0.55, 0.01, txt, ha='center', size=11)\n",
    "\n",
    "            plt.suptitle(f\"Subj {sid}\", position=(0.05, 0.95), ha='left', size=16)\n",
    "            plt.tight_layout() \n",
    "            plt.subplots_adjust(bottom = 0.12) \n",
    "            plt.savefig(out_path, format='png')\n",
    "            plt.close()"
   ]
  },
  {
   "cell_type": "markdown",
   "metadata": {},
   "source": [
    "## Distributions of each coefficient (strip plot)"
   ]
  },
  {
   "cell_type": "code",
   "execution_count": 12,
   "metadata": {},
   "outputs": [],
   "source": [
    "if iter_ver is None:\n",
    "    out_folder = os.path.join(\"Figs_Linguistic\", author, task)\n",
    "    fig_size = (10, 6)\n",
    "    ms = 8\n",
    "    a = .05\n",
    "else:\n",
    "    fd = os.path.join(\"Figs_Linguistic\", author, task, f\"CSR_change_{iter_ver}\")\n",
    "    fig_size = (4, 4)\n",
    "    ms = 20\n",
    "    a = .5\n",
    "    \n",
    "if not os.path.exists(fd):\n",
    "    os.mkdir(fd)\n",
    "               \n",
    "for x_type, x_labels in {\n",
    "    \"coef\": [ col for col in data.columns if col not in [\n",
    "        'SID', 'Iter', 'nT_fit', 'nT_test', \n",
    "        'R_squared', 'R^2', 'NRMSE', 'Test_minRE', 'Test_R^2', 'Test_NRMSE'\n",
    "    ] ], \n",
    "    \"eval\": [ col for col in data.columns if col in [\n",
    "        'R_squared', 'R^2', 'NRMSE', 'Test_minRE', 'Test_R^2', 'Test_NRMSE'\n",
    "    ] ]\n",
    "}.items():\n",
    "\n",
    "    dn = data_name.replace(\".csv\", \"\")\n",
    "    fn = f\"[{x_type}] {dn}.png\"\n",
    "\n",
    "    fig, ax = plt.subplots(figsize=fig_size, dpi=200)\n",
    "\n",
    "    sns.stripplot(\n",
    "        data=data.loc[:, ['SID']+x_labels].melt(id_vars=\"SID\"), \n",
    "        x=\"variable\", y=\"value\", alpha=a, dodge=True, zorder=1\n",
    "    )\n",
    "    ax.plot(\n",
    "        x_labels, data.loc[:, x_labels].median(), \n",
    "        color=\"lightgreen\", linestyle=\"none\", \n",
    "        marker=\"_\", markersize=ms, markeredgewidth=3, zorder=2 \n",
    "    )\n",
    "    ax.plot(\n",
    "        x_labels, data.loc[:, x_labels].mean(), \n",
    "        color=\"red\", linestyle=\"none\", \n",
    "        marker=\"_\", markersize=ms, markeredgewidth=2, zorder=3\n",
    "    )\n",
    "    ax.set_xticks(range(len(x_labels)))\n",
    "    ax.set_xticklabels(x_labels, rotation=90, size=14)\n",
    "    ax.set_xlabel('')\n",
    "    ax.set_ylabel('')\n",
    "    plt.tight_layout()\n",
    "    plt.savefig(os.path.join(fd, fn), format='png')\n",
    "    plt.close()"
   ]
  }
 ],
 "metadata": {
  "kernelspec": {
   "display_name": "Python 3",
   "language": "python",
   "name": "python3"
  },
  "language_info": {
   "codemirror_mode": {
    "name": "ipython",
    "version": 3
   },
   "file_extension": ".py",
   "mimetype": "text/x-python",
   "name": "python",
   "nbconvert_exporter": "python",
   "pygments_lexer": "ipython3",
   "version": "3.8.3"
  }
 },
 "nbformat": 4,
 "nbformat_minor": 4
}
